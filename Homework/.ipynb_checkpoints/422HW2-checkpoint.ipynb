{
 "cells": [
  {
   "cell_type": "markdown",
   "metadata": {
    "collapsed": true
   },
   "source": [
    "MSiA 422 – Winter 2017\n",
    "Homework # 2\n",
    "Jessica Chan  \n",
    "# Sort Algorithms\n",
    "-----------------------------------------------------------------------------------------------\n",
    "\n"
   ]
  },
  {
   "cell_type": "markdown",
   "metadata": {},
   "source": [
    "## Bubble Sort"
   ]
  },
  {
   "cell_type": "markdown",
   "metadata": {},
   "source": [
    "The sort function implements base on bubble sort algorithm. \n",
    "It takes up to three parameters:  \n",
    "    - objects: a list can be numeric, string or comparable user defined objects\n",
    "    - key: is a function that apply to the objects. For example, instead of compare the first alphebet of the strings, you can call key = len to compare the length of each string.\n",
    "    - reversed: it is false by default and if it is true, the function will return the reversed list.\n",
    "This function will return four things:\n",
    "    - Sorted list\n",
    "    - Number of comparisons\n",
    "    - Number of swaps\n",
    "    - Timer measure\n"
   ]
  },
  {
   "cell_type": "code",
   "execution_count": 50,
   "metadata": {
    "collapsed": false
   },
   "outputs": [],
   "source": [
    "import time\n",
    "\n",
    "def sort(objects, key = lambda x:x, reversed = False):\n",
    "    start = time.time()\n",
    "\n",
    "    swapped = 1\n",
    "    compare = 0\n",
    "    swap = 0\n",
    "    for passi in range(len(objects), -1, -1) :\n",
    "        if swapped:\n",
    "            swapped = 0\n",
    "            for i in range(passi-1):\n",
    "                compare +=1\n",
    "                if key(objects[i])>key(objects[i+1]):\n",
    "                    swap +=1\n",
    "                    temp = objects[i]\n",
    "                    objects[i] = objects[i+1]\n",
    "                    \n",
    "                    objects[i+1] = temp\n",
    "                    swapped = 1\n",
    "\n",
    "            passi =-1\n",
    "    if reversed:\n",
    "        end = time.time()\n",
    "        objects = objects[::-1]\n",
    "        return objects,compare,swap,end-start\n",
    "    end = time.time()\n",
    "    return objects,compare,swap,end-start\n",
    "\n"
   ]
  },
  {
   "cell_type": "markdown",
   "metadata": {},
   "source": [
    "## Merge Sort"
   ]
  },
  {
   "cell_type": "markdown",
   "metadata": {},
   "source": [
    "The sort function implements base on merge sort algorithm. \n",
    "It takes up to three parameters:  \n",
    "    - objects: a list can be numeric, string or comparable user defined objects\n",
    "    - key: is a function that apply to the objects. For example, instead of compare the first alphebet of the strings, you can call key = len to compare the length of each string.\n",
    "    - reversed: it is false by default and if it is true, the function will return the reversed list.\n",
    "This function will return four things:\n",
    "    - Sorted list\n",
    "    - Number of comparisons\n",
    "    - Timer measure\n"
   ]
  },
  {
   "cell_type": "code",
   "execution_count": 51,
   "metadata": {
    "collapsed": false
   },
   "outputs": [
    {
     "ename": "IndentationError",
     "evalue": "unexpected indent (<ipython-input-51-2caacacad216>, line 44)",
     "output_type": "error",
     "traceback": [
      "\u001b[0;36m  File \u001b[0;32m\"<ipython-input-51-2caacacad216>\"\u001b[0;36m, line \u001b[0;32m44\u001b[0m\n\u001b[0;31m    if reversed:\u001b[0m\n\u001b[0m    ^\u001b[0m\n\u001b[0;31mIndentationError\u001b[0m\u001b[0;31m:\u001b[0m unexpected indent\n"
     ]
    }
   ],
   "source": [
    "def mergeSort(alist, key = lambda x:x, reversed = False):\n",
    "\n",
    "    if len(alist)>1:\n",
    "        mid = len(alist)//2\n",
    "        lefthalf = alist[:mid]\n",
    "        righthalf = alist[mid:]\n",
    "\n",
    "        L, Lcomp = mergeSort(lefthalf)\n",
    "        R, Rcomp = mergeSort(righthalf)\n",
    "        compare = 0\n",
    "        i=0 \n",
    "        j=0\n",
    "        k=0\n",
    "        while i < len(lefthalf) and j < len(righthalf):\n",
    "            if key(lefthalf[i]) < key(righthalf[j]):\n",
    "                compare +=1\n",
    "                alist[k]=lefthalf[i]\n",
    "                i=i+1\n",
    "            else:\n",
    "                compare +=1\n",
    "                alist[k]=righthalf[j]\n",
    "                j=j+1\n",
    "            k=k+1\n",
    "\n",
    "        while i < len(lefthalf):\n",
    "            alist[k]=lefthalf[i]\n",
    "            i=i+1\n",
    "            k=k+1\n",
    "\n",
    "        while j < len(righthalf):\n",
    "            alist[k]=righthalf[j]\n",
    "            j=j+1\n",
    "            k=k+1\n",
    "        #print (alist)\n",
    "        return (alist, compare+Lcomp+Rcomp)\n",
    "    else:\n",
    "        #print (alist)\n",
    "        return (alist, 0)\n",
    "\n",
    "def merge(alist, key = lambda x:x, reversed = False):\n",
    "    start = time.time()\n",
    "    L,compare = mergeSort(alist, key = lambda x:x, reversed = False)\n",
    "    \n",
    "        if reversed:\n",
    "            end = time.time()\n",
    "            objects = objects[::-1]\n",
    "        return objects,compare,swap,end-start\n",
    "    end = time.time()\n",
    "    return (L, compare, start-end)\n",
    "    \n",
    "alist = [3,2,5,4,1]\n",
    "mergeSort(alist)\n"
   ]
  },
  {
   "cell_type": "code",
   "execution_count": 52,
   "metadata": {
    "collapsed": false
   },
   "outputs": [],
   "source": [
    "import random\n",
    "def randword():\n",
    "\ts=\"\".join(random.choice(string.ascii_letters) for _ in range(random.randint(1,10)))\n",
    "\treturn s\n",
    "\n",
    "def randelement():\n",
    "\tif random.randint(0,1)==0:\n",
    "\t\treturn random.uniform(-10,10000)\n",
    "\telse:\n",
    "\t\treturn randword()\n",
    "\n",
    "def randlist(i):\n",
    "\tl = [random.uniform(-10,10000) for _ in range(i)]\n",
    "\treturn l\n",
    "\n",
    "bubble_L = []\n",
    "merge_L = []\n",
    "\n",
    "\n",
    "def test(maxi, inc):\n",
    "    time1_L = []\n",
    "    time2_L = []\n",
    "    time1 = []\n",
    "    time2 = []\n",
    "    for i in range(0, maxi, inc):\n",
    "        L = randlist(i)\n",
    "        time1_L.append(sort(L))\n",
    "        time2_L.append(merge(L))\n",
    "\n",
    "        \n",
    "    return time1_L,time2_L\n"
   ]
  },
  {
   "cell_type": "markdown",
   "metadata": {},
   "source": [
    "### Test and plot\n",
    "\n",
    "From the graph, we can see that merge sort is significantly faster than bubble sorts. The number of comparison is much smaller than bubble sort."
   ]
  },
  {
   "cell_type": "code",
   "execution_count": 53,
   "metadata": {
    "collapsed": false
   },
   "outputs": [
    {
     "data": {
      "image/png": "[encoded data removed]",
      "text/plain": [
       "<matplotlib.figure.Figure at 0x118735828>"
      ]
     },
     "metadata": {},
     "output_type": "display_data"
    }
   ],
   "source": [
    "import matplotlib.pyplot as plt\n",
    "\n",
    "import numpy as np\n",
    "\n",
    "maxi = 500\n",
    "inc = 2\n",
    "\n",
    "x = np.linspace(0, maxi,maxi//inc)\n",
    "\n",
    "\n",
    "time1_L,time2_L = test(maxi,inc)\n",
    "\n",
    "\n",
    "time1 = list(map(lambda x: x[3],time1_L))\n",
    "time2 = list(map(lambda x:x[2],time2_L))\n",
    "\n",
    "time1 = np.array(time1)\n",
    "time2 = np.array(time2)\n",
    "gap= time2-time1\n",
    "\n",
    "\n",
    "plt.plot(x,time1, label = 'bubble',linestyle='-', marker='o')\n",
    "plt.plot(x,time2, label = 'merge',linestyle='-', marker='o')\n",
    "plt.plot(x,gap,label = 'gap between two functions')\n",
    "plt.xlabel('list size')\n",
    "plt.ylabel('run time')\n",
    "plt.legend()\n",
    "plt.show()\n"
   ]
  },
  {
   "cell_type": "code",
   "execution_count": 54,
   "metadata": {
    "collapsed": false
   },
   "outputs": [],
   "source": [
    "import pandas as pd\n",
    "\n",
    "\n",
    "pd.set_option('display.float_format', lambda x: '%.2f' % x)\n",
    "\n",
    "compareplot = pd.DataFrame(list(map(lambda x: x[1:3],time1_L)),columns = ('bubble compare','bubble swap'))\n",
    "compareplot['merge compare'] = pd.DataFrame(list(map(lambda x: x[1],time2_L)))\n"
   ]
  },
  {
   "cell_type": "code",
   "execution_count": 55,
   "metadata": {
    "collapsed": false
   },
   "outputs": [
    {
     "data": {
      "text/html": [
       "<div>\n",
       "<table border=\"1\" class=\"dataframe\">\n",
       "  <thead>\n",
       "    <tr style=\"text-align: right;\">\n",
       "      <th></th>\n",
       "      <th>bubble compare</th>\n",
       "      <th>bubble swap</th>\n",
       "      <th>merge compare</th>\n",
       "    </tr>\n",
       "  </thead>\n",
       "  <tbody>\n",
       "    <tr>\n",
       "      <th>count</th>\n",
       "      <td>250.00</td>\n",
       "      <td>250.00</td>\n",
       "      <td>250.00</td>\n",
       "    </tr>\n",
       "    <tr>\n",
       "      <th>mean</th>\n",
       "      <td>41090.52</td>\n",
       "      <td>20634.98</td>\n",
       "      <td>990.46</td>\n",
       "    </tr>\n",
       "    <tr>\n",
       "      <th>std</th>\n",
       "      <td>37025.31</td>\n",
       "      <td>18625.88</td>\n",
       "      <td>646.60</td>\n",
       "    </tr>\n",
       "    <tr>\n",
       "      <th>min</th>\n",
       "      <td>0.00</td>\n",
       "      <td>0.00</td>\n",
       "      <td>0.00</td>\n",
       "    </tr>\n",
       "    <tr>\n",
       "      <th>25%</th>\n",
       "      <td>7656.00</td>\n",
       "      <td>3722.00</td>\n",
       "      <td>426.75</td>\n",
       "    </tr>\n",
       "    <tr>\n",
       "      <th>50%</th>\n",
       "      <td>30738.50</td>\n",
       "      <td>15528.50</td>\n",
       "      <td>977.50</td>\n",
       "    </tr>\n",
       "    <tr>\n",
       "      <th>75%</th>\n",
       "      <td>68696.25</td>\n",
       "      <td>33671.00</td>\n",
       "      <td>1532.25</td>\n",
       "    </tr>\n",
       "    <tr>\n",
       "      <th>max</th>\n",
       "      <td>123225.00</td>\n",
       "      <td>63768.00</td>\n",
       "      <td>2203.00</td>\n",
       "    </tr>\n",
       "  </tbody>\n",
       "</table>\n",
       "</div>"
      ],
      "text/plain": [
       "       bubble compare  bubble swap  merge compare\n",
       "count          250.00       250.00         250.00\n",
       "mean         41090.52     20634.98         990.46\n",
       "std          37025.31     18625.88         646.60\n",
       "min              0.00         0.00           0.00\n",
       "25%           7656.00      3722.00         426.75\n",
       "50%          30738.50     15528.50         977.50\n",
       "75%          68696.25     33671.00        1532.25\n",
       "max         123225.00     63768.00        2203.00"
      ]
     },
     "execution_count": 55,
     "metadata": {},
     "output_type": "execute_result"
    }
   ],
   "source": [
    "compareplot.describe()\n"
   ]
  },
  {
   "cell_type": "code",
   "execution_count": null,
   "metadata": {
    "collapsed": true
   },
   "outputs": [],
   "source": []
  }
 ],
 "metadata": {
  "anaconda-cloud": {},
  "kernelspec": {
   "display_name": "Python [conda root]",
   "language": "python",
   "name": "conda-root-py"
  },
  "language_info": {
   "codemirror_mode": {
    "name": "ipython",
    "version": 3
   },
   "file_extension": ".py",
   "mimetype": "text/x-python",
   "name": "python",
   "nbconvert_exporter": "python",
   "pygments_lexer": "ipython3",
   "version": "3.5.2"
  }
 },
 "nbformat": 4,
 "nbformat_minor": 1
}
